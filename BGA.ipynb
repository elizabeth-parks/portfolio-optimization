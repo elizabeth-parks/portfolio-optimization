{
 "cells": [
  {
   "cell_type": "code",
   "execution_count": 1,
   "id": "ff7aa55b-42db-4037-b711-50820ee1fe7c",
   "metadata": {},
   "outputs": [],
   "source": [
    "#Import the required libraries\n",
    "from pandas_datareader import data as web\n",
    "import pandas as pd\n",
    "import yfinance as yf  #added this library to fix cell 7\n",
    "import numpy as np\n",
    "from datetime import datetime\n",
    "import matplotlib.pyplot as plt\n",
    "plt.style.use('fivethirtyeight')"
   ]
  },
  {
   "cell_type": "code",
   "execution_count": 2,
   "id": "1b795331-758d-43f2-bfab-2ce668451b1c",
   "metadata": {},
   "outputs": [
    {
     "name": "stdin",
     "output_type": "stream",
     "text": [
      "How many stocks would you like to enter?\n",
      " 3\n",
      "What is the stock ticker for stock #1?\n",
      " AAPL\n",
      "What is the stock ticker for stock #2?\n",
      " META\n",
      "What is the stock ticker for stock #3?\n",
      " GOOG\n"
     ]
    },
    {
     "name": "stdout",
     "output_type": "stream",
     "text": [
      "Validated assets: ['AAPL', 'META', 'GOOG']\n"
     ]
    }
   ],
   "source": [
    "### Get number of stocks, and tickers from user, check that the ticker is valid\n",
    "def get_valid_stock(prompt):\n",
    "    while True:\n",
    "        stock = input(prompt).upper()\n",
    "        ticker = yf.Ticker(stock)\n",
    "        try:\n",
    "            # Check if we can retrieve any basic info (e.g., name) to verify it's valid\n",
    "            if ticker.info and 'shortName' in ticker.info:\n",
    "                return stock\n",
    "            else:\n",
    "                print(f\"{stock} is not a valid ticker. Please try again.\")\n",
    "        except Exception as e:\n",
    "            print(f\"Error retrieving data for {stock}. Please try again.\")\n",
    "\n",
    "# Ask the user for the number of stocks they want to enter\n",
    "num_stocks = int(input(\"How many stocks would you like to enter?\\n\"))\n",
    "\n",
    "# Collect valid stock tickers based on the chosen number\n",
    "assets = []\n",
    "for i in range(num_stocks):\n",
    "    stock = get_valid_stock(f\"What is the stock ticker for stock #{i+1}?\\n\")\n",
    "    assets.append(stock)\n",
    "\n",
    "print(\"Validated assets:\", assets)"
   ]
  },
  {
   "cell_type": "code",
   "execution_count": 3,
   "id": "35214f40-3161-4c97-a179-82388495a241",
   "metadata": {},
   "outputs": [
    {
     "name": "stdin",
     "output_type": "stream",
     "text": [
      "Enter the weight for stock #1 (in decimal form, e.g., 0.2 for 20%):  0.5\n",
      "Enter the weight for stock #2 (in decimal form, e.g., 0.2 for 20%):  0.2\n",
      "Enter the weight for stock #3 (in decimal form, e.g., 0.2 for 20%):  0.3\n"
     ]
    },
    {
     "name": "stdout",
     "output_type": "stream",
     "text": [
      "Assigned weights: [0.5 0.2 0.3]\n"
     ]
    }
   ],
   "source": [
    "# Function to get weights from the user and ensure they sum to 1\n",
    "def get_weights(num_stocks):\n",
    "    weights = []\n",
    "    for i in range(num_stocks):\n",
    "        while True:\n",
    "            try:\n",
    "                weight = float(input(f\"Enter the weight for stock #{i+1} (in decimal form, e.g., 0.2 for 20%): \"))\n",
    "                if 0 <= weight <= 1:\n",
    "                    weights.append(weight)\n",
    "                    break\n",
    "                else:\n",
    "                    print(\"Please enter a weight between 0 and 1.\")\n",
    "            except ValueError:\n",
    "                print(\"Invalid input. Please enter a decimal number.\")\n",
    "\n",
    "    # Check if weights sum to 1\n",
    "    if sum(weights) != 1:\n",
    "        print(\"The weights you entered do not sum to 1. Please try again.\")\n",
    "        return get_weights(num_stocks)  # Restart if sum is incorrect\n",
    "    return np.array(weights)\n",
    "\n",
    "# Get weights from the user\n",
    "weights = get_weights(num_stocks)\n",
    "print(\"Assigned weights:\", weights)"
   ]
  },
  {
   "cell_type": "code",
   "execution_count": 4,
   "id": "808ee017-dc5d-476e-80b6-f9d61fe00e84",
   "metadata": {},
   "outputs": [
    {
     "data": {
      "text/plain": [
       "'2025-02-25'"
      ]
     },
     "execution_count": 4,
     "metadata": {},
     "output_type": "execute_result"
    }
   ],
   "source": [
    "#Get the stock/portfolio start date\n",
    "stockStartDate = datetime(2013, 1, 1)\n",
    "today = datetime.today().strftime(\"%Y-%m-%d\")\n",
    "today"
   ]
  },
  {
   "cell_type": "code",
   "execution_count": 6,
   "id": "0485fb81-f2c1-474c-96e3-71ee16921658",
   "metadata": {},
   "outputs": [
    {
     "name": "stderr",
     "output_type": "stream",
     "text": [
      "[*********************100%***********************]  1 of 1 completed\n",
      "[*********************100%***********************]  1 of 1 completed\n",
      "[*********************100%***********************]  1 of 1 completed"
     ]
    },
    {
     "name": "stdout",
     "output_type": "stream",
     "text": [
      "                  AAPL        META        GOOG\n",
      "Date                                          \n",
      "2013-01-02   16.669018   27.893450   17.949236\n",
      "2013-01-03   16.458614   27.664324   17.959660\n",
      "2013-01-04   16.000160   28.650557   18.314550\n",
      "2013-01-07   15.906043   29.308046   18.234638\n",
      "2013-01-08   15.948853   28.949413   18.198652\n",
      "...                ...         ...         ...\n",
      "2025-02-18  244.470001  716.369995  185.800003\n",
      "2025-02-19  244.869995  703.770020  187.130005\n",
      "2025-02-20  245.830002  694.840027  186.639999\n",
      "2025-02-21  245.550003  683.549988  181.580002\n",
      "2025-02-24  247.100006  668.130005  181.190002\n",
      "\n",
      "[3055 rows x 3 columns]\n"
     ]
    },
    {
     "name": "stderr",
     "output_type": "stream",
     "text": [
      "\n"
     ]
    }
   ],
   "source": [
    "# Initialize an empty DataFrame\n",
    "df = pd.DataFrame()\n",
    "\n",
    "# Fetch stock data with error handling\n",
    "for stock in assets:\n",
    "    try:\n",
    "        # Download stock data from Yahoo Finance\n",
    "        data = yf.download(stock, start=stockStartDate, end=today)\n",
    "        \n",
    "        # Check if the 'Close' column exists (as 'Adj Close' is missing)\n",
    "        if 'Close' in data.columns:\n",
    "            # Access the 'Close' column for each stock and add it to the DataFrame\n",
    "            df[stock] = data['Close']\n",
    "        else:\n",
    "            print(f\"Missing 'Close' for {stock}. Available columns: {data.columns}\")\n",
    "    \n",
    "    except Exception as e:\n",
    "        print(f\"Error fetching data for {stock}: {e}\")\n",
    "\n",
    "# Output the DataFrame with close prices\n",
    "print(df)"
   ]
  },
  {
   "cell_type": "code",
   "execution_count": 7,
   "id": "a0333b91-09db-4a39-989b-fc538b26d685",
   "metadata": {},
   "outputs": [
    {
     "data": {
      "image/png": "[encoded data removed]",
      "text/plain": [
       "<Figure size 1000x600 with 1 Axes>"
      ]
     },
     "metadata": {},
     "output_type": "display_data"
    }
   ],
   "source": [
    "#Plot the close price history\n",
    "title = \"Portfolio Close Price History\"\n",
    "my_stocks = df\n",
    "\n",
    "plt.figure(figsize=(10, 6))\n",
    "for c in my_stocks.columns.values:\n",
    "    plt.plot(my_stocks[c], label=c)\n",
    "\n",
    "plt.title(title)\n",
    "plt.xlabel('Date', fontsize=18)\n",
    "plt.ylabel('Price USD ($)', fontsize=18)\n",
    "plt.legend(my_stocks.columns.values, loc='upper left')\n",
    "plt.show()"
   ]
  },
  {
   "cell_type": "code",
   "execution_count": 8,
   "id": "5d059b5b-357f-4be8-864f-aca1684e3e30",
   "metadata": {},
   "outputs": [
    {
     "data": {
      "text/html": [
       "<div>\n",
       "<style scoped>\n",
       "    .dataframe tbody tr th:only-of-type {\n",
       "        vertical-align: middle;\n",
       "    }\n",
       "\n",
       "    .dataframe tbody tr th {\n",
       "        vertical-align: top;\n",
       "    }\n",
       "\n",
       "    .dataframe thead th {\n",
       "        text-align: right;\n",
       "    }\n",
       "</style>\n",
       "<table border=\"1\" class=\"dataframe\">\n",
       "  <thead>\n",
       "    <tr style=\"text-align: right;\">\n",
       "      <th></th>\n",
       "      <th>AAPL</th>\n",
       "      <th>META</th>\n",
       "      <th>GOOG</th>\n",
       "    </tr>\n",
       "    <tr>\n",
       "      <th>Date</th>\n",
       "      <th></th>\n",
       "      <th></th>\n",
       "      <th></th>\n",
       "    </tr>\n",
       "  </thead>\n",
       "  <tbody>\n",
       "    <tr>\n",
       "      <th>2013-01-02</th>\n",
       "      <td>NaN</td>\n",
       "      <td>NaN</td>\n",
       "      <td>NaN</td>\n",
       "    </tr>\n",
       "    <tr>\n",
       "      <th>2013-01-03</th>\n",
       "      <td>-0.012622</td>\n",
       "      <td>-0.008214</td>\n",
       "      <td>0.000581</td>\n",
       "    </tr>\n",
       "    <tr>\n",
       "      <th>2013-01-04</th>\n",
       "      <td>-0.027855</td>\n",
       "      <td>0.035650</td>\n",
       "      <td>0.019760</td>\n",
       "    </tr>\n",
       "    <tr>\n",
       "      <th>2013-01-07</th>\n",
       "      <td>-0.005882</td>\n",
       "      <td>0.022949</td>\n",
       "      <td>-0.004363</td>\n",
       "    </tr>\n",
       "    <tr>\n",
       "      <th>2013-01-08</th>\n",
       "      <td>0.002691</td>\n",
       "      <td>-0.012237</td>\n",
       "      <td>-0.001973</td>\n",
       "    </tr>\n",
       "    <tr>\n",
       "      <th>...</th>\n",
       "      <td>...</td>\n",
       "      <td>...</td>\n",
       "      <td>...</td>\n",
       "    </tr>\n",
       "    <tr>\n",
       "      <th>2025-02-18</th>\n",
       "      <td>-0.000531</td>\n",
       "      <td>-0.027556</td>\n",
       "      <td>-0.005726</td>\n",
       "    </tr>\n",
       "    <tr>\n",
       "      <th>2025-02-19</th>\n",
       "      <td>0.001636</td>\n",
       "      <td>-0.017589</td>\n",
       "      <td>0.007158</td>\n",
       "    </tr>\n",
       "    <tr>\n",
       "      <th>2025-02-20</th>\n",
       "      <td>0.003920</td>\n",
       "      <td>-0.012689</td>\n",
       "      <td>-0.002619</td>\n",
       "    </tr>\n",
       "    <tr>\n",
       "      <th>2025-02-21</th>\n",
       "      <td>-0.001139</td>\n",
       "      <td>-0.016248</td>\n",
       "      <td>-0.027111</td>\n",
       "    </tr>\n",
       "    <tr>\n",
       "      <th>2025-02-24</th>\n",
       "      <td>0.006312</td>\n",
       "      <td>-0.022559</td>\n",
       "      <td>-0.002148</td>\n",
       "    </tr>\n",
       "  </tbody>\n",
       "</table>\n",
       "<p>3055 rows × 3 columns</p>\n",
       "</div>"
      ],
      "text/plain": [
       "                AAPL      META      GOOG\n",
       "Date                                    \n",
       "2013-01-02       NaN       NaN       NaN\n",
       "2013-01-03 -0.012622 -0.008214  0.000581\n",
       "2013-01-04 -0.027855  0.035650  0.019760\n",
       "2013-01-07 -0.005882  0.022949 -0.004363\n",
       "2013-01-08  0.002691 -0.012237 -0.001973\n",
       "...              ...       ...       ...\n",
       "2025-02-18 -0.000531 -0.027556 -0.005726\n",
       "2025-02-19  0.001636 -0.017589  0.007158\n",
       "2025-02-20  0.003920 -0.012689 -0.002619\n",
       "2025-02-21 -0.001139 -0.016248 -0.027111\n",
       "2025-02-24  0.006312 -0.022559 -0.002148\n",
       "\n",
       "[3055 rows x 3 columns]"
      ]
     },
     "execution_count": 8,
     "metadata": {},
     "output_type": "execute_result"
    }
   ],
   "source": [
    "#show the daily simple return\n",
    "returns = df.pct_change()\n",
    "returns"
   ]
  },
  {
   "cell_type": "code",
   "execution_count": 9,
   "id": "6722a562-a426-4c1d-8c9e-0f5145084183",
   "metadata": {},
   "outputs": [
    {
     "data": {
      "text/html": [
       "<div>\n",
       "<style scoped>\n",
       "    .dataframe tbody tr th:only-of-type {\n",
       "        vertical-align: middle;\n",
       "    }\n",
       "\n",
       "    .dataframe tbody tr th {\n",
       "        vertical-align: top;\n",
       "    }\n",
       "\n",
       "    .dataframe thead th {\n",
       "        text-align: right;\n",
       "    }\n",
       "</style>\n",
       "<table border=\"1\" class=\"dataframe\">\n",
       "  <thead>\n",
       "    <tr style=\"text-align: right;\">\n",
       "      <th></th>\n",
       "      <th>AAPL</th>\n",
       "      <th>META</th>\n",
       "      <th>GOOG</th>\n",
       "    </tr>\n",
       "  </thead>\n",
       "  <tbody>\n",
       "    <tr>\n",
       "      <th>AAPL</th>\n",
       "      <td>0.078101</td>\n",
       "      <td>0.049107</td>\n",
       "      <td>0.041878</td>\n",
       "    </tr>\n",
       "    <tr>\n",
       "      <th>META</th>\n",
       "      <td>0.049107</td>\n",
       "      <td>0.144676</td>\n",
       "      <td>0.060312</td>\n",
       "    </tr>\n",
       "    <tr>\n",
       "      <th>GOOG</th>\n",
       "      <td>0.041878</td>\n",
       "      <td>0.060312</td>\n",
       "      <td>0.075669</td>\n",
       "    </tr>\n",
       "  </tbody>\n",
       "</table>\n",
       "</div>"
      ],
      "text/plain": [
       "          AAPL      META      GOOG\n",
       "AAPL  0.078101  0.049107  0.041878\n",
       "META  0.049107  0.144676  0.060312\n",
       "GOOG  0.041878  0.060312  0.075669"
      ]
     },
     "execution_count": 9,
     "metadata": {},
     "output_type": "execute_result"
    }
   ],
   "source": [
    "#create and show anualized covariance matrix\n",
    "cov_matrix_annual = returns.cov() * 252\n",
    "cov_matrix_annual"
   ]
  },
  {
   "cell_type": "code",
   "execution_count": 10,
   "id": "e15d0645-4461-48ce-aae6-81ff96eddc29",
   "metadata": {},
   "outputs": [
    {
     "data": {
      "text/plain": [
       "0.061744653619764854"
      ]
     },
     "execution_count": 10,
     "metadata": {},
     "output_type": "execute_result"
    }
   ],
   "source": [
    "#calculate the portfolio variance\n",
    "port_variance = np.dot(weights.T, np.dot(cov_matrix_annual, weights))\n",
    "port_variance"
   ]
  },
  {
   "cell_type": "code",
   "execution_count": 11,
   "id": "0324b2b4-aef2-4c75-a092-878990c8002f",
   "metadata": {},
   "outputs": [
    {
     "data": {
      "text/plain": [
       "0.24848471506264697"
      ]
     },
     "execution_count": 11,
     "metadata": {},
     "output_type": "execute_result"
    }
   ],
   "source": [
    "#Calculate the portfolio volitility\n",
    "port_volatility = np.sqrt(port_variance)\n",
    "port_volatility"
   ]
  },
  {
   "cell_type": "code",
   "execution_count": 12,
   "id": "d1551477-74e3-489c-8f88-316608f91d3e",
   "metadata": {},
   "outputs": [
    {
     "data": {
      "text/plain": [
       "0.266306420413132"
      ]
     },
     "execution_count": 12,
     "metadata": {},
     "output_type": "execute_result"
    }
   ],
   "source": [
    "#calculate the annual portfolio return\n",
    "portfolioSimpleAnnualReturn = np.sum(returns.mean() * weights) * 252\n",
    "portfolioSimpleAnnualReturn"
   ]
  },
  {
   "cell_type": "code",
   "execution_count": 13,
   "id": "ec9a658a-6c4a-4688-babc-577d37647baf",
   "metadata": {},
   "outputs": [
    {
     "name": "stdout",
     "output_type": "stream",
     "text": [
      "Expected annual return: 27.0%\n",
      "Annual Volatility / risk: 25.0%\n",
      "Annual Variance: 6.0%\n"
     ]
    }
   ],
   "source": [
    "#Show the expected annual return, volatility (risk), and variance\n",
    "percent_var = str(round(port_variance, 2) * 100) + '%'\n",
    "percent_vols = str(round(port_volatility, 2) * 100) + '%'\n",
    "percent_ret = str(round(portfolioSimpleAnnualReturn, 2) * 100) + '%'\n",
    "\n",
    "print(\"Expected annual return: \" + percent_ret)\n",
    "print(\"Annual Volatility / risk: \" + percent_vols)\n",
    "print(\"Annual Variance: \" + percent_var)"
   ]
  },
  {
   "cell_type": "code",
   "execution_count": 14,
   "id": "b5c855a3-233f-41c5-9590-dc0cb3253550",
   "metadata": {},
   "outputs": [],
   "source": [
    "#!pip install PyPortfolioOpt"
   ]
  },
  {
   "cell_type": "code",
   "execution_count": 15,
   "id": "6f002f8e-10d8-47ff-8b67-9cf96f2f5b1e",
   "metadata": {},
   "outputs": [],
   "source": [
    "from pypfopt.efficient_frontier import EfficientFrontier\n",
    "from pypfopt import risk_models\n",
    "from pypfopt import expected_returns"
   ]
  },
  {
   "cell_type": "code",
   "execution_count": 16,
   "id": "b7747d7a-f97c-43f2-8d09-286c3b989048",
   "metadata": {},
   "outputs": [
    {
     "name": "stdout",
     "output_type": "stream",
     "text": [
      "OrderedDict({'AAPL': 0.54042, 'META': 0.25955, 'GOOG': 0.20002})\n",
      "Expected annual return: 25.4%\n",
      "Annual volatility: 25.4%\n",
      "Sharpe Ratio: 1.00\n"
     ]
    },
    {
     "data": {
      "text/plain": [
       "(0.2544677899362765, 0.25431555467856976, 1.0005986077332123)"
      ]
     },
     "execution_count": 16,
     "metadata": {},
     "output_type": "execute_result"
    }
   ],
   "source": [
    "#Portfolio Optimization\n",
    "\n",
    "#Calculate expected returns and the annualized sample covariance matrix of asset returns\n",
    "mu = expected_returns.mean_historical_return(df)\n",
    "S = risk_models.sample_cov(df)\n",
    "\n",
    "#Optimize for max Sharpe ratio\n",
    "ef = EfficientFrontier(mu, S)\n",
    "weights = ef.max_sharpe()\n",
    "cleaned_weights = ef.clean_weights()\n",
    "print(cleaned_weights)\n",
    "ef.portfolio_performance(verbose=True)"
   ]
  },
  {
   "cell_type": "code",
   "execution_count": 19,
   "id": "b4d56d43-16f5-42e4-ab95-87cca93e4f75",
   "metadata": {},
   "outputs": [
    {
     "name": "stdin",
     "output_type": "stream",
     "text": [
      "Enter the amount of money you want to invest in your portfolio: $ 10000\n"
     ]
    },
    {
     "name": "stdout",
     "output_type": "stream",
     "text": [
      "Discrete allocation: {'AAPL': 22, 'META': 4, 'GOOG': 10}\n",
      "Funds remaining: $79.38\n"
     ]
    }
   ],
   "source": [
    "#Get the discrete allocation of each share per stock\n",
    "from pypfopt.discrete_allocation import DiscreteAllocation, get_latest_prices\n",
    "\n",
    "latest_prices = get_latest_prices(df)\n",
    "weights = cleaned_weights\n",
    "\n",
    "# Ask the user for the total portfolio value\n",
    "try:\n",
    "    total_portfolio_value = float(input(\"Enter the amount of money you want to invest in your portfolio: $\"))\n",
    "except ValueError:\n",
    "    print(\"Invalid input! Please enter a numeric value.\")\n",
    "    exit()\n",
    "\n",
    "da = DiscreteAllocation(weights, latest_prices, total_portfolio_value)\n",
    "\n",
    "allocation, leftover = da.lp_portfolio()\n",
    "print('Discrete allocation:', allocation)\n",
    "print('Funds remaining: ${:.2f}'.format(leftover))"
   ]
  },
  {
   "cell_type": "code",
   "execution_count": 20,
   "id": "e7651706-a5b2-48c8-90c1-3d1b7a44e62d",
   "metadata": {},
   "outputs": [
    {
     "name": "stdout",
     "output_type": "stream",
     "text": [
      "Optimized Portfolio Weights: [0.52378282 0.35109621 0.12512097]\n",
      "Maximized Sortino Ratio: 1.462054641272111\n"
     ]
    }
   ],
   "source": [
    "#This code block adds optimization for sorintino ratio\n",
    "\n",
    "from scipy.optimize import minimize\n",
    "\n",
    "# Set parameters\n",
    "risk_free_rate = 0.01  # Adjust as per the current risk-free rate\n",
    "\n",
    "# Define the Sortino Ratio calculation function\n",
    "def sortino_ratio(weights, returns, risk_free_rate=0.01):\n",
    "    portfolio_return = np.sum(returns.mean() * weights) * 252  # Annualized return\n",
    "    downside_returns = returns[returns < 0].fillna(0)  # Only consider negative returns\n",
    "    downside_risk = np.sqrt(np.mean((downside_returns.dot(weights)) ** 2)) * np.sqrt(252)  # Annualized downside risk\n",
    "\n",
    "    sortino = (portfolio_return - risk_free_rate) / downside_risk\n",
    "    return -sortino  # Negative for minimization\n",
    "\n",
    "# Constraints: weights sum to 1\n",
    "def weight_constraint(weights):\n",
    "    return np.sum(weights) - 1\n",
    "\n",
    "\n",
    "# Convert the 'weights' OrderedDict to a list for optimization\n",
    "initial_weights = list(weights.values())\n",
    "# bounds should have the same length as initial_weights\n",
    "bounds = [(0, 1) for _ in range(len(initial_weights))]\n",
    "\n",
    "\n",
    "# Run the optimization\n",
    "# Change: Pass initial_weights instead of weights to minimize\n",
    "optimized_result = minimize(\n",
    "    sortino_ratio,\n",
    "    initial_weights,  # Pass the list of initial weights here\n",
    "    args=(returns, risk_free_rate),\n",
    "    method='SLSQP',\n",
    "    bounds=bounds,\n",
    "    constraints={'type': 'eq', 'fun': weight_constraint}\n",
    ")\n",
    "\n",
    "# Extract optimized weights\n",
    "optimized_weights = optimized_result.x\n",
    "optimized_sortino = -optimized_result.fun  # Get positive Sortino Ratio\n",
    "\n",
    "print(\"Optimized Portfolio Weights:\", optimized_weights)\n",
    "print(\"Maximized Sortino Ratio:\", optimized_sortino)"
   ]
  },
  {
   "cell_type": "code",
   "execution_count": 21,
   "id": "d8fd35d9-ff6f-4bc6-9e02-5596e4c35adb",
   "metadata": {},
   "outputs": [
    {
     "name": "stdin",
     "output_type": "stream",
     "text": [
      "Enter the amount of money you want to invest in your portfolio: $ 10000\n"
     ]
    },
    {
     "name": "stdout",
     "output_type": "stream",
     "text": [
      "Discrete allocation: {'AAPL': 21, 'META': 5, 'GOOG': 7}\n",
      "Funds remaining: $201.92\n"
     ]
    }
   ],
   "source": [
    "#Get the discrete allocation of each share per stock\n",
    "from pypfopt.discrete_allocation import DiscreteAllocation, get_latest_prices\n",
    "\n",
    "latest_prices = get_latest_prices(df)\n",
    "\n",
    "# Convert optimized_weights (NumPy array) to a dictionary\n",
    "weights = dict(zip(df.columns, optimized_weights)) # df.columns provides the tickers\n",
    "\n",
    "# Ask the user for the total portfolio value\n",
    "try:\n",
    "    total_portfolio_value = float(input(\"Enter the amount of money you want to invest in your portfolio: $\"))\n",
    "except ValueError:\n",
    "    print(\"Invalid input! Please enter a numeric value.\")\n",
    "    exit()\n",
    "\n",
    "# Pass optimized_weights to DiscreteAllocation\n",
    "da = DiscreteAllocation(weights, latest_prices, total_portfolio_value)\n",
    "\n",
    "allocation, leftover = da.lp_portfolio()\n",
    "print('Discrete allocation:', allocation)\n",
    "print('Funds remaining: ${:.2f}'.format(leftover))"
   ]
  },
  {
   "cell_type": "code",
   "execution_count": null,
   "id": "2f6bd867-e296-4e9d-b618-6595961b2416",
   "metadata": {},
   "outputs": [],
   "source": []
  }
 ],
 "metadata": {
  "kernelspec": {
   "display_name": "Python 3 (ipykernel)",
   "language": "python",
   "name": "python3"
  },
  "language_info": {
   "codemirror_mode": {
    "name": "ipython",
    "version": 3
   },
   "file_extension": ".py",
   "mimetype": "text/x-python",
   "name": "python",
   "nbconvert_exporter": "python",
   "pygments_lexer": "ipython3",
   "version": "3.12.9"
  }
 },
 "nbformat": 4,
 "nbformat_minor": 5
}
